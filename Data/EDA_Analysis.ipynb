{
 "cells": [
  {
   "cell_type": "code",
   "id": "initial_id",
   "metadata": {
    "collapsed": true,
    "ExecuteTime": {
     "end_time": "2025-02-14T07:14:24.784795Z",
     "start_time": "2025-02-14T07:14:24.745963Z"
    }
   },
   "source": [
    "import pandas as pd\n",
    "import numpy as np\n",
    "import os\n",
    "\n",
    "df = pd.read_csv(r\"./Airplane_Crashes_and_Fatalities_Since_1908.csv\")\n",
    "\n",
    "print(df.dtypes, '\\n')\n",
    "print(df.shape, '\\n')\n",
    "\n",
    "X = df.iloc[:, :13]  # Features (first 8 columns)\n",
    "y = df.iloc[:, 13]   # Target (9th column)\n",
    "\n",
    "print(\"\\nFeatures shape:\", X.shape)\n",
    "print(\"Target shape:\", y.shape, '\\n')\n"
   ],
   "outputs": [
    {
     "name": "stdout",
     "output_type": "stream",
     "text": [
      "index             int64\n",
      "Date             object\n",
      "Time             object\n",
      "Location         object\n",
      "Operator         object\n",
      "Flight #         object\n",
      "Route            object\n",
      "Type             object\n",
      "Registration     object\n",
      "cn/In            object\n",
      "Aboard          float64\n",
      "Fatalities      float64\n",
      "Ground          float64\n",
      "Summary          object\n",
      "dtype: object \n",
      "\n",
      "(5268, 14) \n",
      "\n",
      "\n",
      "Features shape: (5268, 13)\n",
      "Target shape: (5268,) \n",
      "\n"
     ]
    }
   ],
   "execution_count": 23
  }
 ],
 "metadata": {
  "kernelspec": {
   "display_name": "Python 3",
   "language": "python",
   "name": "python3"
  },
  "language_info": {
   "codemirror_mode": {
    "name": "ipython",
    "version": 2
   },
   "file_extension": ".py",
   "mimetype": "text/x-python",
   "name": "python",
   "nbconvert_exporter": "python",
   "pygments_lexer": "ipython2",
   "version": "2.7.6"
  }
 },
 "nbformat": 4,
 "nbformat_minor": 5
}
